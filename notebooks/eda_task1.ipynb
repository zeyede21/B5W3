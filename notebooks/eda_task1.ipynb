{
 "cells": [
  {
   "cell_type": "code",
   "execution_count": 14,
   "id": "216ccc72-e9ca-4697-91d0-0b3e93ee4590",
   "metadata": {},
   "outputs": [
    {
     "name": "stderr",
     "output_type": "stream",
     "text": [
      "C:\\Users\\zeyed\\AppData\\Local\\Temp\\ipykernel_30200\\2075107061.py:11: DtypeWarning:\n",
      "\n",
      "Columns (32,37) have mixed types. Specify dtype option on import or set low_memory=False.\n",
      "\n"
     ]
    },
    {
     "ename": "NameError",
     "evalue": "name 'summarize_data' is not defined",
     "output_type": "error",
     "traceback": [
      "\u001b[31m---------------------------------------------------------------------------\u001b[39m",
      "\u001b[31mNameError\u001b[39m                                 Traceback (most recent call last)",
      "\u001b[36mCell\u001b[39m\u001b[36m \u001b[39m\u001b[32mIn[14]\u001b[39m\u001b[32m, line 15\u001b[39m\n\u001b[32m     13\u001b[39m df[\u001b[33m'\u001b[39m\u001b[33mTransactionMonth\u001b[39m\u001b[33m'\u001b[39m] = pd.to_datetime(df[\u001b[33m'\u001b[39m\u001b[33mTransactionMonth\u001b[39m\u001b[33m'\u001b[39m], errors=\u001b[33m'\u001b[39m\u001b[33mcoerce\u001b[39m\u001b[33m'\u001b[39m)\n\u001b[32m     14\u001b[39m \u001b[38;5;66;03m# Summary & Quality Check\u001b[39;00m\n\u001b[32m---> \u001b[39m\u001b[32m15\u001b[39m \u001b[43msummarize_data\u001b[49m(df)\n\u001b[32m     16\u001b[39m check_missing_values(df)\n\u001b[32m     18\u001b[39m \u001b[38;5;66;03m# Analysis\u001b[39;00m\n",
      "\u001b[31mNameError\u001b[39m: name 'summarize_data' is not defined"
     ]
    }
   ],
   "source": [
    "import sys\n",
    "import os\n",
    "\n",
    "# Add src to the path\n",
    "sys.path.append(os.path.abspath(\"../src\"))\n",
    "\n",
    "# Now you can import\n",
    "from eda_task1 import *\n",
    "\n",
    "# Load\n",
    "df = pd.read_csv(\"../data/MachineLearningRating_v3.txt\", sep=\"|\")\n",
    "# Fix date format\n",
    "df['TransactionMonth'] = pd.to_datetime(df['TransactionMonth'], errors='coerce')\n",
    "# Summary & Quality Check\n",
    "summarize_data(df)\n",
    "check_missing_values(df)\n",
    "\n",
    "# Analysis\n",
    "loss_results = calculate_loss_ratio(df)\n",
    "df = loss_results['df']  # Updated DataFrame with LossRatio\n",
    "\n",
    "# Distributions\n",
    "plot_distributions(df, numeric_cols=['TotalClaims', 'TotalPremium', 'CustomValueEstimate'],\n",
    "                   cat_cols=['Province', 'Gender', 'VehicleType'])\n",
    "\n",
    "# Correlations\n",
    "correlation_analysis(df, cols=['TotalClaims', 'TotalPremium', 'CustomValueEstimate'])\n",
    "\n",
    "# Trends & Bivariate\n",
    "plot_scatter(df, x='TotalPremium', y='TotalClaims', hue='Province')\n",
    "plot_temporal_trends(df, 'TransactionMonth')\n",
    "\n",
    "# Top Claims & Outliers\n",
    "top_vehicle_claims(df)\n",
    "detect_outliers(df, ['TotalClaims', 'CustomValueEstimate'])\n",
    "\n",
    "# Creative Plots\n",
    "creative_plot_loss_ratio_by_province(df)\n",
    "creative_plot_claims_vs_premium(df)\n",
    "creative_plot_heatmap_loss_ratio(df)\n"
   ]
  },
  {
   "cell_type": "code",
   "execution_count": null,
   "id": "dfcdd54f-69f4-43fd-9603-126d819ca61f",
   "metadata": {},
   "outputs": [],
   "source": []
  }
 ],
 "metadata": {
  "kernelspec": {
   "display_name": "Python 3 (ipykernel)",
   "language": "python",
   "name": "python3"
  },
  "language_info": {
   "codemirror_mode": {
    "name": "ipython",
    "version": 3
   },
   "file_extension": ".py",
   "mimetype": "text/x-python",
   "name": "python",
   "nbconvert_exporter": "python",
   "pygments_lexer": "ipython3",
   "version": "3.12.10"
  }
 },
 "nbformat": 4,
 "nbformat_minor": 5
}
